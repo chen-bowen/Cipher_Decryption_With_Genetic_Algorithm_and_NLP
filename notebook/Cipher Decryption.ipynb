{
 "cells": [
  {
   "cell_type": "markdown",
   "metadata": {},
   "source": [
    "# Cipher Decryption with Genetic Algorithms"
   ]
  },
  {
   "cell_type": "markdown",
   "metadata": {},
   "source": [
    "All the modules has been built in model directory"
   ]
  },
  {
   "cell_type": "code",
   "execution_count": 1,
   "metadata": {},
   "outputs": [],
   "source": [
    "import os\n",
    "os.chdir(\"..\")\n",
    "from model.genetic_algorithm import GeneticAlgorithm\n",
    "from model.language_model import LanguageModel\n",
    "from model.encoder import Encoder\n",
    "import re\n",
    "import matplotlib.pyplot as plt"
   ]
  },
  {
   "cell_type": "markdown",
   "metadata": {},
   "source": [
    "initialize genetic algorithm object and train"
   ]
  },
  {
   "cell_type": "code",
   "execution_count": 2,
   "metadata": {},
   "outputs": [],
   "source": [
    "original_message = \"\"\"I then lounged down the street and found,\n",
    "as I expected, that there was a mews in a lane which runs down\n",
    "by one wall of the garden. I lent the ostlers a hand in rubbing\n",
    "down their horses, and received in exchange twopence, a glass of\n",
    "half-and-half, two fills of shag tobacco, and as much information\n",
    "as I could desire about Miss Adler, to say nothing of half a dozen\n",
    "other people in the neighbourhood in whom I was not in the least\n",
    "interested, but whose biographies I was compelled to listen to.\n",
    "\"\"\""
   ]
  },
  {
   "cell_type": "code",
   "execution_count": 3,
   "metadata": {},
   "outputs": [
    {
     "name": "stdout",
     "output_type": "stream",
     "text": [
      "I then lounged down the street and found,\n",
      "as I expected, that there was a mews in a lane which runs down\n",
      "by one wall of the garden. I lent the ostlers a hand in rubbing\n",
      "down their horses, and received in exchange twopence, a glass of\n",
      "half-and-half, two fills of shag tobacco, and as much information\n",
      "as I could desire about Miss Adler, to say nothing of half a dozen\n",
      "other people in the neighbourhood in whom I was not in the least\n",
      "interested, but whose biographies I was compelled to listen to.\n",
      "\n"
     ]
    }
   ],
   "source": [
    "print(original_message)"
   ]
  },
  {
   "cell_type": "markdown",
   "metadata": {},
   "source": [
    "train the encryption mapping"
   ]
  },
  {
   "cell_type": "code",
   "execution_count": 4,
   "metadata": {},
   "outputs": [
    {
     "name": "stdout",
     "output_type": "stream",
     "text": [
      "\n",
      " iter: 0, log likelihood: -2073.576252028433, best likelihood so far: -1832.381645653613 \n",
      " decoded_message: \n",
      " i swzl bdxloza adfl swz rsyzzs ela udxla  er i znpzmsza  swes swzyz fer e czfr il e belz fwimw yxlr adfl jq dlz febb du swz oeyazl  i bzls swz drsbzyr e wela il yxjjilo adfl swziy wdyrzr  ela yzmzivza il znmweloz sfdpzlmz  e oberr du webu ela webu  sfd uibbr du rweo sdjemmd  ela er cxmw iludycesidl er i mdxba azriyz ejdxs cirr eabzy  sd req ldswilo du webu e adkzl dswzy pzdpbz il swz lziowjdxywdda il fwdc i fer lds il swz bzers ilszyzrsza  jxs fwdrz jidoyepwizr i fer mdcpzbbza sd birszl sd   \n",
      "\n",
      "\n",
      " iter: 50, log likelihood: -1387.9634836444652, best likelihood so far: -1151.0213450523797 \n",
      " decoded_message: \n",
      " i lyen pokndet tomn lye rlfeel ant uoknt  ar i ewheblet  lyal lyefe mar a cemr in a pane myiby fknr tomn sg one mapp ou lye daften  i penl lye orlpefr a yant in fkssind tomn lyeif yofrer  ant febeivet in ewbyande lmohenbe  a dparr ou yapu ant yapu  lmo uippr ou ryad losabbo  ant ar ckby inuofcalion ar i bokpt terife asokl cirr atpef  lo rag nolyind ou yapu a tozen olyef heohpe in lye neidysokfyoot in myoc i mar nol in lye pearl inleferlet  skl myore siodfahyier i mar bocheppet lo pirlen lo   \n",
      "\n",
      "\n",
      " iter: 100, log likelihood: -1298.3557189503647, best likelihood so far: -1078.687388886312 \n",
      " decoded_message: \n",
      " i lyen roundec comn lye tlseel anc founc  at i egheblec  lyal lyese mat a wemt in a rane myiby sunt comn pz one marr of lye dascen  i renl lye otlrest a yanc in suppind comn lyeis yostet  anc sebeikec in egbyande lmohenbe  a dratt of yarf anc yarf  lmo firrt of tyad lopabbo  anc at wuby infoswalion at i bourc cetise apoul witt acres  lo taz nolyind of yarf a coven olyes heohre in lye neidypousyooc in myow i mat nol in lye reatl inlesetlec  pul myote piodsahyiet i mat bowherrec lo ritlen lo   \n",
      "\n",
      "\n",
      " iter: 150, log likelihood: -1258.6765643013775, best likelihood so far: -1036.338487668528 \n",
      " decoded_message: \n",
      " i tyen lounged domn tye street and found  as i eckebted  tyat tyere mas a wems in a lane myiby runs domn ph one mall of tye garden  i lent tye ostlers a yand in rupping domn tyeir yorses  and rebeized in ecbyange tmokenbe  a glass of yalf and yalf  tmo fills of syag topabbo  and as wuby inforwation as i bould desire apout wiss adler  to sah notying of yalf a doven otyer keokle in tye neigypouryood in myow i mas not in tye least interested  put myose piograkyies i mas bowkelled to listen to   \n",
      "\n",
      "\n",
      " iter: 200, log likelihood: -1214.9702568879597, best likelihood so far: -929.5902922650557 \n",
      " decoded_message: \n",
      " i then lounged down the street and found  as i expected  that there was a mews in a lane which runs down by one wall of the garden  i lent the ostlers a hand in rubbing down their horses  and received in exchange twopence  a glass of half and half  two fills of shag tobacco  and as much information as i could desire about miss adler  to say nothing of half a doken other people in the neighbourhood in whom i was not in the least interested  but whose biographies i was compelled to listen to   \n",
      "\n"
     ]
    }
   ],
   "source": [
    "g = GeneticAlgorithm()\n",
    "encoder = Encoder()\n",
    "lm = LanguageModel()\n",
    "g.train(original_message)"
   ]
  },
  {
   "cell_type": "markdown",
   "metadata": {},
   "source": [
    "As shown, the encryption mapping is getting increasingly accurate to the real message"
   ]
  },
  {
   "cell_type": "markdown",
   "metadata": {},
   "source": [
    "get the best mapping and compare with the true mapping"
   ]
  },
  {
   "cell_type": "code",
   "execution_count": 5,
   "metadata": {},
   "outputs": [
    {
     "name": "stdout",
     "output_type": "stream",
     "text": [
      "LL of decoded message: -929.5902922650557\n",
      "LL of true message: -933.0312453751817\n",
      "true: k, pred: z\n",
      "true: z, pred: k\n"
     ]
    }
   ],
   "source": [
    "best_mapping = g.best_mapping\n",
    "true_mapping = encoder.encoder_cipher_mapping\n",
    "encoded_message = encoder.encode(original_message)\n",
    "decoded_message = encoder.decode(encoded_message, best_mapping)\n",
    "\n",
    "print(\"LL of decoded message:\", lm.get_sentence_log_probability(decoded_message))\n",
    "print(\"LL of true message:\", lm.get_sentence_log_probability(re.sub(\"[^a-zA-Z]\", \" \", original_message.lower())))\n",
    "\n",
    "\n",
    "# which letters are wrong?\n",
    "for true, v in true_mapping.items():\n",
    "    pred = best_mapping[v]\n",
    "    if true != pred:\n",
    "        print(\"true: %s, pred: %s\" % (true, pred))"
   ]
  },
  {
   "cell_type": "markdown",
   "metadata": {},
   "source": [
    "The only pair of mapping that the algorithm did not get properly mapped - since \"o -> k\" is much more common than \"o -> z\", therefore that \"o -> k\" combination produced a larger likelihood that got maximized by the algorithm "
   ]
  },
  {
   "cell_type": "markdown",
   "metadata": {},
   "source": [
    "visualize the training progression"
   ]
  },
  {
   "cell_type": "code",
   "execution_count": 6,
   "metadata": {},
   "outputs": [
    {
     "data": {
      "text/plain": [
       "Text(0, 0.5, 'Log Likelihood')"
      ]
     },
     "execution_count": 6,
     "metadata": {},
     "output_type": "execute_result"
    },
    {
     "data": {
      "image/png": "[encoded data removed]",
      "text/plain": [
       "<Figure size 720x504 with 1 Axes>"
      ]
     },
     "metadata": {
      "needs_background": "light"
     },
     "output_type": "display_data"
    }
   ],
   "source": [
    "plt.figure(figsize=(10, 7))\n",
    "plt.plot(g.avg_scores_per_iter)\n",
    "plt.title(\"Average Log Likelihood vs. Iter\")\n",
    "plt.xlabel(\"Iter Num\")\n",
    "plt.ylabel(\"Log Likelihood\")"
   ]
  },
  {
   "cell_type": "code",
   "execution_count": 8,
   "metadata": {},
   "outputs": [
    {
     "data": {
      "text/plain": [
       "Text(0, 0.5, 'Log Likelihood')"
      ]
     },
     "execution_count": 8,
     "metadata": {},
     "output_type": "execute_result"
    },
    {
     "data": {
      "image/png": "[encoded data removed]",
      "text/plain": [
       "<Figure size 720x504 with 1 Axes>"
      ]
     },
     "metadata": {
      "needs_background": "light"
     },
     "output_type": "display_data"
    }
   ],
   "source": [
    "plt.figure(figsize=(10, 7))\n",
    "plt.plot(g.best_scores_per_iter)\n",
    "plt.title(\"Best Log Likelihood vs. Iter\")\n",
    "plt.xlabel(\"Iter Num\")\n",
    "plt.ylabel(\"Log Likelihood\")"
   ]
  },
  {
   "cell_type": "code",
   "execution_count": null,
   "metadata": {},
   "outputs": [],
   "source": []
  }
 ],
 "metadata": {
  "kernelspec": {
   "display_name": "nlp",
   "language": "python",
   "name": "nlp"
  },
  "language_info": {
   "codemirror_mode": {
    "name": "ipython",
    "version": 3
   },
   "file_extension": ".py",
   "mimetype": "text/x-python",
   "name": "python",
   "nbconvert_exporter": "python",
   "pygments_lexer": "ipython3",
   "version": "3.8.2"
  }
 },
 "nbformat": 4,
 "nbformat_minor": 4
}
